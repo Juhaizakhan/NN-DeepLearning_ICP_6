{
 "cells": [
  {
   "cell_type": "code",
   "execution_count": 1,
   "id": "ba0d5620",
   "metadata": {},
   "outputs": [
    {
     "name": "stdout",
     "output_type": "stream",
     "text": [
      "5/5 [==============================] - 0s 3ms/step - loss: nan - accuracy: 0.6503\n",
      "Test Accuracy: 0.6503496766090393\n"
     ]
    }
   ],
   "source": [
    "import pandas as pd\n",
    "from sklearn.model_selection import train_test_split\n",
    "from keras.models import Sequential\n",
    "from keras.layers import Dense\n",
    "\n",
    "# Load the Breast Cancer dataset from CSV\n",
    "path_to_csv = r\"C:\\Users\\Ayesha\\Downloads\\NN&DeepLearning_Lesson7_SourceCode (2)\\NN&DeepLearning_Lesson7_SourceCode\\breastcancer.csv\"  # Update with the path to your CSV file\n",
    "data = pd.read_csv(path_to_csv)\n",
    "\n",
    "# Split features and target variable\n",
    "X = data.drop(columns=[\"id\", \"diagnosis\"])  # Features (excluding id and diagnosis columns)\n",
    "y = (data[\"diagnosis\"] == 'M').astype(int)  # Convert diagnosis to binary labels (M: 1, B: 0)\n",
    "\n",
    "# Split the data into training and testing sets\n",
    "X_train, X_test, y_train, y_test = train_test_split(X, y, test_size=0.25, random_state=87)\n",
    "\n",
    "# Create the model\n",
    "model = Sequential()\n",
    "model.add(Dense(20, input_dim=X_train.shape[1], activation='relu'))\n",
    "model.add(Dense(1, activation='sigmoid'))\n",
    "\n",
    "# Compile the model\n",
    "model.compile(loss='binary_crossentropy', optimizer='adam', metrics=['accuracy'])\n",
    "\n",
    "# Train the model\n",
    "model.fit(X_train, y_train, epochs=100, verbose=0)\n",
    "\n",
    "# Evaluate the model\n",
    "loss, accuracy = model.evaluate(X_test, y_test)\n",
    "print(\"Test Accuracy:\", accuracy)\n"
   ]
  },
  {
   "cell_type": "code",
   "execution_count": null,
   "id": "e51ab5dd",
   "metadata": {},
   "outputs": [],
   "source": []
  }
 ],
 "metadata": {
  "kernelspec": {
   "display_name": "Python 3 (ipykernel)",
   "language": "python",
   "name": "python3"
  },
  "language_info": {
   "codemirror_mode": {
    "name": "ipython",
    "version": 3
   },
   "file_extension": ".py",
   "mimetype": "text/x-python",
   "name": "python",
   "nbconvert_exporter": "python",
   "pygments_lexer": "ipython3",
   "version": "3.8.10"
  }
 },
 "nbformat": 4,
 "nbformat_minor": 5
}
